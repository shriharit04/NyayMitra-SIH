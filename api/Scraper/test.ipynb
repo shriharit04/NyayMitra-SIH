{
 "cells": [
  {
   "cell_type": "code",
   "execution_count": 2,
   "metadata": {},
   "outputs": [],
   "source": [
    "import requests\n",
    "from bs4 import BeautifulSoup"
   ]
  },
  {
   "cell_type": "code",
   "execution_count": 3,
   "metadata": {},
   "outputs": [],
   "source": [
    "search_text = \"bail granted in section 307 ipc\"\n",
    "search_text = search_text.strip().replace(\" \", \"+\")\n",
    "search_url = \"https://indiankanoon.org/search/?formInput={search_text}\"\n"
   ]
  },
  {
   "cell_type": "code",
   "execution_count": 4,
   "metadata": {},
   "outputs": [],
   "source": [
    "# Make the request\n",
    "response = requests.get(search_url)\n",
    "soup = BeautifulSoup(response.text, 'html.parser')"
   ]
  },
  {
   "cell_type": "code",
   "execution_count": 5,
   "metadata": {},
   "outputs": [],
   "source": [
    "links = soup.select('.result_title a')[:10]  # Limit to first 5 articles\n"
   ]
  },
  {
   "cell_type": "code",
   "execution_count": 10,
   "metadata": {},
   "outputs": [
    {
     "name": "stdout",
     "output_type": "stream",
     "text": [
      "<a href=\"/docfragment/53756698/?formInput=sec.34%20ipc\">Shyamal Ghosh vs State Of West Bengal on 11 July, 2012</a>\n",
      "<a href=\"/doc/37788/\"><b>Section</b> <b>34</b> in The <b>Indian</b> <b>Penal</b> <b>Code</b>, 1860</a>\n",
      "<a href=\"/doc/1569253/\">Entire Act</a>\n",
      "<a href=\"/docfragment/1120373/?formInput=sec.34%20ipc\">Khujji @ Surendra Tiwari vs The State Of Madhya Pradesh on 16 July, 1991</a>\n",
      "<a href=\"/docfragment/126399/?formInput=sec.34%20ipc\">Abdul Sayeed vs State Of M.P on 14 September, 2010</a>\n"
     ]
    }
   ],
   "source": [
    "for link in links:\n",
    "    print(link)"
   ]
  },
  {
   "cell_type": "code",
   "execution_count": 21,
   "metadata": {},
   "outputs": [
    {
     "name": "stdout",
     "output_type": "stream",
     "text": [
      "1. Shyamal Ghosh vs State Of West Bengal on 11 July, 2012\n",
      "   https://indiankanoon.org/docfragment/53756698/?formInput=sec.34%20ipc\n",
      "\n",
      "2. Section34in TheIndianPenalCode, 1860\n",
      "   https://indiankanoon.org/doc/37788/\n",
      "\n",
      "3. Entire Act\n",
      "   https://indiankanoon.org/doc/1569253/\n",
      "\n",
      "4. Khujji @ Surendra Tiwari vs The State Of Madhya Pradesh on 16 July, 1991\n",
      "   https://indiankanoon.org/docfragment/1120373/?formInput=sec.34%20ipc\n",
      "\n",
      "5. Abdul Sayeed vs State Of M.P on 14 September, 2010\n",
      "   https://indiankanoon.org/docfragment/126399/?formInput=sec.34%20ipc\n",
      "\n"
     ]
    }
   ],
   "source": [
    "# Initialize lists to store titles and URLs\n",
    "article_titles = []\n",
    "article_links = []\n",
    "\n",
    "articles = {}\n",
    "\n",
    "# Extract titles and URLs\n",
    "for link in links:\n",
    "    title = link.get_text(strip=True)\n",
    "    url = \"https://indiankanoon.org\" + link['href']\n",
    "    article_titles.append(title)\n",
    "    articles[title] = url\n",
    "    article_links.append(url)\n",
    "\n",
    "# Print the titles and links\n",
    "for i, (title, link) in enumerate(zip(article_titles, article_links)):\n",
    "    print(f\"{i+1}. {title}\\n   {link}\\n\")"
   ]
  },
  {
   "cell_type": "code",
   "execution_count": 30,
   "metadata": {},
   "outputs": [
    {
     "name": "stdout",
     "output_type": "stream",
     "text": [
      "2\n"
     ]
    }
   ],
   "source": [
    "#Extract Content from Each Article\n",
    "\n",
    "def extract_article_content(url):\n",
    "    response = requests.get(url)\n",
    "    soup = BeautifulSoup(response.text, 'html.parser')\n",
    "    # Extract the main content of the article\n",
    "    # Find the <div> with the class 'fragment'\n",
    "    div_fragment = soup.find('div', class_='fragment')\n",
    "    paragraphs = div_fragment.find_all('p')\n",
    "    content = \"\\n\".join([p.get_text(strip=True) for p in paragraphs])\n",
    "    return content\n",
    "\n",
    "url = 'https://indiankanoon.org/docfragment/1120373/?formInput=sec.34%20ipc'\n",
    "# print(extract_article_content(url))\n",
    "\n",
    "contents = []\n",
    "\n",
    "errorCount = 0\n",
    "for article_title, article_link in articles.items():\n",
    "    try:\n",
    "        data = (extract_article_content(article_link))\n",
    "        contents.append(data)\n",
    "    except:\n",
    "        errorCount+=1\n",
    "        pass\n",
    "print(errorCount)\n",
    "with open(\"trial.txt\",\"w\") as f:\n",
    "    f.write(\"\\n\\n\".join(contents))\n",
    "# print(data)\n",
    "\n",
    "\n",
    "\n",
    "\n"
   ]
  }
 ],
 "metadata": {
  "kernelspec": {
   "display_name": "Python 3",
   "language": "python",
   "name": "python3"
  },
  "language_info": {
   "codemirror_mode": {
    "name": "ipython",
    "version": 3
   },
   "file_extension": ".py",
   "mimetype": "text/x-python",
   "name": "python",
   "nbconvert_exporter": "python",
   "pygments_lexer": "ipython3",
   "version": "3.10.7"
  }
 },
 "nbformat": 4,
 "nbformat_minor": 2
}
